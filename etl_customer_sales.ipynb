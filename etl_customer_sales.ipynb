{
 "cells": [
  {
   "cell_type": "code",
   "execution_count": 3,
   "id": "9fb65208-cfff-4cbc-9097-854355631404",
   "metadata": {},
   "outputs": [],
   "source": [
    "#Import Libraries\n",
    "import pandas as pd\n",
    "import numpy as np"
   ]
  },
  {
   "cell_type": "code",
   "execution_count": 17,
   "id": "8a690f0e-5a45-400e-9ded-c0c4b58f9abb",
   "metadata": {},
   "outputs": [],
   "source": [
    "#Load datasets\n",
    "customer = pd.read_excel(r\"C:\\Users\\grace\\Downloads\\Data Integreation\\CustomersData.xlsx\")\n",
    "online = pd.read_csv(r\"C:\\Users\\grace\\Downloads\\Data Integreation\\Online_Sales.csv\")\n",
    "data = pd.read_csv(r\"C:\\Users\\grace\\Downloads\\Data Integreation\\ecom_data.csv\",encoding=\"latin1\")\n"
   ]
  },
  {
   "cell_type": "code",
   "execution_count": 18,
   "id": "a6512a7e-4799-4e21-9156-695310289d29",
   "metadata": {},
   "outputs": [
    {
     "name": "stdout",
     "output_type": "stream",
     "text": [
      "   CustomerID Gender    Location  Tenure_Months\n",
      "0       17850      M     Chicago             12\n",
      "1       13047      M  California             43\n",
      "2       12583      M     Chicago             33\n",
      "3       13748      F  California             30\n",
      "4       15100      M  California             49\n",
      "   CustomerID  Transaction_ID Transaction_Date     Product_SKU  \\\n",
      "0       17850           16679         1/1/2019  GGOENEBJ079499   \n",
      "1       17850           16680         1/1/2019  GGOENEBJ079499   \n",
      "2       17850           16681         1/1/2019  GGOEGFKQ020399   \n",
      "3       17850           16682         1/1/2019  GGOEGAAB010516   \n",
      "4       17850           16682         1/1/2019  GGOEGBJL013999   \n",
      "\n",
      "                                 Product_Description Product_Category  \\\n",
      "0  Nest Learning Thermostat 3rd Gen-USA - Stainle...         Nest-USA   \n",
      "1  Nest Learning Thermostat 3rd Gen-USA - Stainle...         Nest-USA   \n",
      "2              Google Laptop and Cell Phone Stickers           Office   \n",
      "3  Google Men's 100% Cotton Short Sleeve Hero Tee...          Apparel   \n",
      "4                    Google Canvas Tote Natural/Navy             Bags   \n",
      "\n",
      "   Quantity  Avg_Price  Delivery_Charges Coupon_Status  \n",
      "0         1     153.71               6.5          Used  \n",
      "1         1     153.71               6.5          Used  \n",
      "2         1       2.05               6.5          Used  \n",
      "3         5      17.53               6.5      Not Used  \n",
      "4         1      16.50               6.5          Used  \n",
      "  InvoiceNo StockCode                          Description  Quantity  \\\n",
      "0    536365    85123A   WHITE HANGING HEART T-LIGHT HOLDER         6   \n",
      "1    536365     71053                  WHITE METAL LANTERN         6   \n",
      "2    536365    84406B       CREAM CUPID HEARTS COAT HANGER         8   \n",
      "3    536365    84029G  KNITTED UNION FLAG HOT WATER BOTTLE         6   \n",
      "4    536365    84029E       RED WOOLLY HOTTIE WHITE HEART.         6   \n",
      "\n",
      "        InvoiceDate  UnitPrice  CustomerID         Country  \n",
      "0  12-01-2010 08:26       2.55     17850.0  United Kingdom  \n",
      "1  12-01-2010 08:26       3.39     17850.0  United Kingdom  \n",
      "2  12-01-2010 08:26       2.75     17850.0  United Kingdom  \n",
      "3  12-01-2010 08:26       3.39     17850.0  United Kingdom  \n",
      "4  12-01-2010 08:26       3.39     17850.0  United Kingdom  \n"
     ]
    }
   ],
   "source": [
    "# Inspect\n",
    "print(customer.head())\n",
    "print(online.head())\n",
    "print(data.head())"
   ]
  },
  {
   "cell_type": "code",
   "execution_count": 27,
   "id": "b08caf22-0b7a-43b6-a25a-53c53a21a4ed",
   "metadata": {},
   "outputs": [
    {
     "name": "stdout",
     "output_type": "stream",
     "text": [
      "<class 'pandas.core.frame.DataFrame'>\n",
      "RangeIndex: 1468 entries, 0 to 1467\n",
      "Data columns (total 4 columns):\n",
      " #   Column         Non-Null Count  Dtype \n",
      "---  ------         --------------  ----- \n",
      " 0   CustomerID     1468 non-null   int64 \n",
      " 1   Gender         1468 non-null   object\n",
      " 2   Location       1468 non-null   object\n",
      " 3   Tenure_Months  1468 non-null   int64 \n",
      "dtypes: int64(2), object(2)\n",
      "memory usage: 46.0+ KB\n",
      "None\n",
      "<class 'pandas.core.frame.DataFrame'>\n",
      "RangeIndex: 52924 entries, 0 to 52923\n",
      "Data columns (total 10 columns):\n",
      " #   Column               Non-Null Count  Dtype  \n",
      "---  ------               --------------  -----  \n",
      " 0   CustomerID           52924 non-null  int64  \n",
      " 1   Transaction_ID       52924 non-null  int64  \n",
      " 2   Transaction_Date     52924 non-null  object \n",
      " 3   Product_SKU          52924 non-null  object \n",
      " 4   Product_Description  52924 non-null  object \n",
      " 5   Product_Category     52924 non-null  object \n",
      " 6   Quantity             52924 non-null  int64  \n",
      " 7   Avg_Price            52924 non-null  float64\n",
      " 8   Delivery_Charges     52924 non-null  float64\n",
      " 9   Coupon_Status        52924 non-null  object \n",
      "dtypes: float64(2), int64(3), object(5)\n",
      "memory usage: 4.0+ MB\n",
      "None\n",
      "<class 'pandas.core.frame.DataFrame'>\n",
      "Index: 406829 entries, 0 to 541908\n",
      "Data columns (total 8 columns):\n",
      " #   Column       Non-Null Count   Dtype  \n",
      "---  ------       --------------   -----  \n",
      " 0   InvoiceNo    406829 non-null  object \n",
      " 1   StockCode    406829 non-null  object \n",
      " 2   Description  406829 non-null  object \n",
      " 3   Quantity     406829 non-null  int64  \n",
      " 4   InvoiceDate  172782 non-null  object \n",
      " 5   UnitPrice    406829 non-null  float64\n",
      " 6   CustomerID   406829 non-null  int64  \n",
      " 7   Country      406829 non-null  object \n",
      "dtypes: float64(1), int64(2), object(5)\n",
      "memory usage: 27.9+ MB\n",
      "None\n"
     ]
    }
   ],
   "source": [
    "# Checking Data Type\n",
    "print(customer.info())\n",
    "print(online.info())\n",
    "print(data.info())"
   ]
  },
  {
   "cell_type": "code",
   "execution_count": 32,
   "id": "7626793b-e7d6-462e-a01f-705dc30401bb",
   "metadata": {},
   "outputs": [],
   "source": [
    "# Keep only rows where customer_id is not missing\n",
    "data = data[data['CustomerID'].notna()].copy()\n",
    "\n",
    "# Convert customer_id from float to int\n",
    "data[\"CustomerID\"] = data[\"CustomerID\"].astype(int)"
   ]
  },
  {
   "cell_type": "code",
   "execution_count": 33,
   "id": "f38aa177-6368-4850-839e-58e3925caeff",
   "metadata": {},
   "outputs": [],
   "source": [
    "# Create total revenue column\n",
    "data['total_revenue_ecom'] = data['Quantity'] * data['UnitPrice']\n",
    "\n",
    "# Aggregate per customer\n",
    "data_agg = data.groupby('CustomerID').agg(\n",
    "    total_orders_ecom=('InvoiceNo', 'count'),\n",
    "    total_quantity_ecom=('Quantity', 'sum'),\n",
    "    total_revenue_ecom=('total_revenue_ecom', 'sum')\n",
    ").reset_index()\n"
   ]
  },
  {
   "cell_type": "code",
   "execution_count": 45,
   "id": "9a27a9f1-44b9-4480-b51a-6a442bb2de31",
   "metadata": {},
   "outputs": [],
   "source": [
    "# Create total spent column\n",
    "online['total_spent']= online['Quantity']*online['Avg_Price']+online['Delivery_Charges']"
   ]
  },
  {
   "cell_type": "code",
   "execution_count": 46,
   "id": "d958a222-c18c-4208-bd9a-4190362c8882",
   "metadata": {},
   "outputs": [],
   "source": [
    "# Aggregate per customer\n",
    "sales_agg=online.groupby('CustomerID').agg(\n",
    "    total_orders=('Transaction_ID','count'),\n",
    "    total_quanity=('Quantity','sum'),\n",
    "    total_spent_online=('total_spent','sum')).reset_index()"
   ]
  },
  {
   "cell_type": "code",
   "execution_count": 47,
   "id": "c81b5dd3-9aa6-420e-8223-45ded1ae3f39",
   "metadata": {},
   "outputs": [],
   "source": [
    "# Create average order value column\n",
    "sales_agg['avg_order_value']=sales_agg['total_spent_online']/sales_agg['total_orders']"
   ]
  },
  {
   "cell_type": "code",
   "execution_count": 48,
   "id": "4529b7ee-c7cb-4247-b7f3-8eabb28f14d0",
   "metadata": {},
   "outputs": [],
   "source": [
    "# Merge Customer + Online\n",
    "customer_master= customer.merge(sales_agg, on='CustomerID',how='left')\n",
    "\n",
    "# Merge Customer + Data\n",
    "customer_master= customer_master.merge(data_agg, on='CustomerID',how='left')\n"
   ]
  },
  {
   "cell_type": "code",
   "execution_count": 49,
   "id": "c1407a72-6a64-4d25-98ad-0e99ec7d5447",
   "metadata": {},
   "outputs": [
    {
     "name": "stdout",
     "output_type": "stream",
     "text": [
      "<class 'pandas.core.frame.DataFrame'>\n",
      "RangeIndex: 1468 entries, 0 to 1467\n",
      "Data columns (total 11 columns):\n",
      " #   Column               Non-Null Count  Dtype  \n",
      "---  ------               --------------  -----  \n",
      " 0   CustomerID           1468 non-null   int64  \n",
      " 1   Gender               1468 non-null   object \n",
      " 2   Location             1468 non-null   object \n",
      " 3   Tenure_Months        1468 non-null   int64  \n",
      " 4   total_orders         1468 non-null   int64  \n",
      " 5   total_quanity        1468 non-null   int64  \n",
      " 6   total_spent_online   1468 non-null   float64\n",
      " 7   avg_order_value      1468 non-null   float64\n",
      " 8   total_orders_ecom    1468 non-null   int64  \n",
      " 9   total_quantity_ecom  1468 non-null   int64  \n",
      " 10  total_revenue_ecom   1468 non-null   int64  \n",
      "dtypes: float64(2), int64(7), object(2)\n",
      "memory usage: 126.3+ KB\n",
      "None\n"
     ]
    }
   ],
   "source": [
    "print(customer_master.info())"
   ]
  },
  {
   "cell_type": "code",
   "execution_count": 51,
   "id": "5ea5504e-4d50-44a9-a4e6-98e4bf4bbd0d",
   "metadata": {},
   "outputs": [
    {
     "name": "stdout",
     "output_type": "stream",
     "text": [
      "(1468, 11)\n"
     ]
    }
   ],
   "source": [
    "print(customer_master.shape)"
   ]
  },
  {
   "cell_type": "code",
   "execution_count": 52,
   "id": "e83e2bca-04b9-4d2e-9f2f-b5b7296eb1f0",
   "metadata": {},
   "outputs": [
    {
     "name": "stdout",
     "output_type": "stream",
     "text": [
      "CustomerID             0\n",
      "Gender                 0\n",
      "Location               0\n",
      "Tenure_Months          0\n",
      "total_orders           0\n",
      "total_quanity          0\n",
      "total_spent_online     0\n",
      "avg_order_value        0\n",
      "total_orders_ecom      0\n",
      "total_quantity_ecom    0\n",
      "total_revenue_ecom     0\n",
      "dtype: int64\n"
     ]
    }
   ],
   "source": [
    "print(customer_master.isnull().sum())"
   ]
  },
  {
   "cell_type": "code",
   "execution_count": 53,
   "id": "c7e23ff7-1a6b-4c8f-a45d-3af4caa72ed0",
   "metadata": {},
   "outputs": [],
   "source": [
    "# Export to Excel\n",
    "customer_master.to_excel(\"Customer360.xlsx\", index=False)"
   ]
  },
  {
   "cell_type": "code",
   "execution_count": 54,
   "id": "3eff26f1-9896-4f0e-bd80-d590fec90cc1",
   "metadata": {},
   "outputs": [
    {
     "name": "stdout",
     "output_type": "stream",
     "text": [
      "C:\\Users\\grace\\Python\n"
     ]
    }
   ],
   "source": [
    "#To check the path\n",
    "import os\n",
    "print(os.getcwd())\n"
   ]
  },
  {
   "cell_type": "code",
   "execution_count": null,
   "id": "ff6914c8-b30e-416a-9572-3fb56db174eb",
   "metadata": {},
   "outputs": [],
   "source": []
  }
 ],
 "metadata": {
  "kernelspec": {
   "display_name": "Python 3 (ipykernel)",
   "language": "python",
   "name": "python3"
  },
  "language_info": {
   "codemirror_mode": {
    "name": "ipython",
    "version": 3
   },
   "file_extension": ".py",
   "mimetype": "text/x-python",
   "name": "python",
   "nbconvert_exporter": "python",
   "pygments_lexer": "ipython3",
   "version": "3.11.5"
  }
 },
 "nbformat": 4,
 "nbformat_minor": 5
}
